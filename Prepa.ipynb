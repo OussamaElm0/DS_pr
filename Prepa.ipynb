{
 "cells": [
  {
   "cell_type": "markdown",
   "id": "1bddc9e6-49b8-4036-bc89-f9bfc5495f45",
   "metadata": {},
   "source": [
    "# Random"
   ]
  },
  {
   "cell_type": "markdown",
   "id": "0cc050cd-6db2-4583-aa75-e90c31c63b90",
   "metadata": {},
   "source": [
    "## Difference entre random.randint() & randrom.randrange()"
   ]
  },
  {
   "cell_type": "markdown",
   "id": "71ad3a0c-a59d-4c88-b672-f2806aac278a",
   "metadata": {},
   "source": [
    "### random.randint(0 [start], 10 [end]) :\n",
    "\n",
    "Genère un entier entre entre 0 et 10 (inclus).\n",
    "\n",
    "### random.randint(0 [start], 10 [end], 1 [step]) :\n",
    "\n",
    "Genère un entier entre 0 et 10 (exclus)"
   ]
  },
  {
   "cell_type": "code",
   "execution_count": 14,
   "id": "3126402a-3e77-4fc8-80c1-4a41f98e889e",
   "metadata": {},
   "outputs": [
    {
     "name": "stdout",
     "output_type": "stream",
     "text": [
      "4\n",
      "4\n"
     ]
    }
   ],
   "source": [
    "import random\n",
    "\n",
    "print(random.randint(0, 10)) # random int from [0, 1, 2, 3, 4, 5, 6, 7, 8, 9, 10]\n",
    "print(random.randrange(0, 10, 2)) # random int from [0, 2, 4, 6, 8]"
   ]
  },
  {
   "cell_type": "markdown",
   "id": "c72d0364-e89c-43a8-aaa1-a2ce755e9b9f",
   "metadata": {},
   "source": [
    "# random.choices() & random.sample()"
   ]
  },
  {
   "cell_type": "markdown",
   "id": "f243a8f2-4622-4594-ad37-5d57f2651d1d",
   "metadata": {},
   "source": [
    "### random.choices(population, k=1) :\n",
    "Sélectionne k éléments avec remise depuis une population (les éléments peuvent être répétés).\n",
    "\n",
    "### random.sample(population, k) :\n",
    "Sélectionne k éléments sans remise depuis une population (tous les éléments sont uniques).\n",
    "\n",
    "#### Args :\n",
    "- population : La séquence source depuis laquelle sélectionner les éléments (liste, tuple, string, set, etc.)\n",
    "- k : Le nombre d'éléments à sélectionner (doit être ≤ len(population))"
   ]
  },
  {
   "cell_type": "code",
   "execution_count": 24,
   "id": "34e96dea-0357-488e-8852-e505cbf19ea0",
   "metadata": {},
   "outputs": [
    {
     "name": "stdout",
     "output_type": "stream",
     "text": [
      "\n",
      "    choices: [3, 3, 1] \n",
      "    sample: [3, 4, 1]\n",
      "\n"
     ]
    }
   ],
   "source": [
    "liste = [1, 2, 3, 4, 5]\n",
    "\n",
    "# Avec remise - peut avoir des doublons\n",
    "choices = random.choices(liste, k=3)  # Peut donner [2, 2, 5]\n",
    "\n",
    "# Sans remise - tous uniques\n",
    "sample = random.sample(liste, 3)     # Peut donner [1, 4, 2]\n",
    "\n",
    "print(f\"\"\"\n",
    "    choices: {choices} \n",
    "    sample: {sample}\n",
    "\"\"\")"
   ]
  },
  {
   "cell_type": "markdown",
   "id": "5a407d41-c5d2-4310-b7fd-b64f0e6516c2",
   "metadata": {},
   "source": [
    "# Numpy"
   ]
  },
  {
   "cell_type": "markdown",
   "id": "adfc4dc5-5044-4b29-8737-24f034f15699",
   "metadata": {},
   "source": [
    "## .T (Transpose)\n",
    "Transpose la matrice. Pour un tableau 1D, retourne le tableau original."
   ]
  },
  {
   "cell_type": "code",
   "execution_count": 3,
   "id": "df5e6cd2-9c5d-47b3-9376-38938c6eca63",
   "metadata": {},
   "outputs": [
    {
     "name": "stdout",
     "output_type": "stream",
     "text": [
      "[[1 4]\n",
      " [2 5]\n",
      " [3 6]]\n",
      "[1 2 3]\n"
     ]
    }
   ],
   "source": [
    "import numpy as np\n",
    "\n",
    "arr_2d = np.array([[1, 2, 3], [4, 5, 6]])\n",
    "print(arr_2d.T)\n",
    "# [[1 4]\n",
    "#  [2 5]\n",
    "#  [3 6]]\n",
    "\n",
    "arr_1d = np.array([1, 2, 3])\n",
    "print(arr_1d.T)  # [1 2 3] (inchangé)"
   ]
  },
  {
   "cell_type": "markdown",
   "id": "72937595-d1b1-48eb-aa0c-5a56b2210ce7",
   "metadata": {},
   "source": [
    "## .data\n",
    "Pointeur vers la position mémoire des données du tableau."
   ]
  },
  {
   "cell_type": "code",
   "execution_count": 6,
   "id": "0dbca68a-bb26-42d1-8f73-8eea83992ec6",
   "metadata": {},
   "outputs": [
    {
     "name": "stdout",
     "output_type": "stream",
     "text": [
      "<memory at 0x73ccbd97d540>\n",
      "<memory at 0x73ccbd97d540>\n"
     ]
    }
   ],
   "source": [
    "arr = np.array([1, 2, 3, 4])\n",
    "print(arr.data)  # <memory at 0x...>\n",
    "\n",
    "# Exemple d'utilisation avec des vues\n",
    "view = arr[1:3]\n",
    "print(view.data)  # Pointe vers la même zone mémoire"
   ]
  },
  {
   "cell_type": "markdown",
   "id": "7359470e-08d4-461d-bf27-9d41f171bf07",
   "metadata": {},
   "source": [
    "## .dtype\n",
    "Type de données des éléments du ndarray.\n"
   ]
  },
  {
   "cell_type": "code",
   "execution_count": 9,
   "id": "7e3eadab-fc68-4715-b9dd-f1416c1562cb",
   "metadata": {},
   "outputs": [
    {
     "name": "stdout",
     "output_type": "stream",
     "text": [
      "int64\n",
      "float64\n",
      "<U1\n"
     ]
    }
   ],
   "source": [
    "arr_int = np.array([1, 2, 3])\n",
    "print(arr_int.dtype)  # int64\n",
    "\n",
    "arr_float = np.array([1.5, 2.7, 3.2])\n",
    "print(arr_float.dtype)  # float64\n",
    "\n",
    "arr_str = np.array(['a', 'b', 'c'])\n",
    "print(arr_str.dtype)  # <U1"
   ]
  },
  {
   "cell_type": "markdown",
   "id": "0ac86f4d-d2df-4b10-ba2d-d70445f3946c",
   "metadata": {},
   "source": [
    "## .flags\n",
    "Informations sur le stockage en mémoire du ndarray."
   ]
  },
  {
   "cell_type": "code",
   "execution_count": 12,
   "id": "141d5c74-900b-469d-a0ea-9ea2bbbc2102",
   "metadata": {},
   "outputs": [
    {
     "name": "stdout",
     "output_type": "stream",
     "text": [
      "  C_CONTIGUOUS : True\n",
      "  F_CONTIGUOUS : True\n",
      "  OWNDATA : True\n",
      "  WRITEABLE : True\n",
      "  ALIGNED : True\n",
      "  WRITEBACKIFCOPY : False\n",
      "\n"
     ]
    }
   ],
   "source": [
    "arr = np.array([1, 2, 3, 4])\n",
    "print(arr.flags)\n",
    "# C_CONTIGUOUS : True\n",
    "# F_CONTIGUOUS : True\n",
    "# OWNDATA : True\n",
    "# WRITEABLE : True\n",
    "# ALIGNED : True\n",
    "# WRITEBACKIFCOPY : False"
   ]
  },
  {
   "cell_type": "markdown",
   "id": "fbfc3030-b152-4cfb-b158-d14119777626",
   "metadata": {},
   "source": [
    "## .imag\n",
    "Partie imaginaire des données du ndarray (pour nombres complexes)."
   ]
  },
  {
   "cell_type": "code",
   "execution_count": 15,
   "id": "ad356ec1-e20f-4e55-a432-402157259401",
   "metadata": {},
   "outputs": [
    {
     "name": "stdout",
     "output_type": "stream",
     "text": [
      "[2. 4. 6.]\n",
      "[0 0 0]\n"
     ]
    }
   ],
   "source": [
    "arr_complex = np.array([1+2j, 3+4j, 5+6j])\n",
    "print(arr_complex.imag)  # [2. 4. 6.]\n",
    "\n",
    "arr_real = np.array([1, 2, 3])\n",
    "print(arr_real.imag)  # [0 0 0]"
   ]
  },
  {
   "cell_type": "markdown",
   "id": "a0d22a88-809f-47b7-b5e1-0b7d5d846dbf",
   "metadata": {},
   "source": [
    "## .size\n",
    "Le nombre total d'éléments dans le ndarray."
   ]
  },
  {
   "cell_type": "code",
   "execution_count": 18,
   "id": "14272aa5-a9df-4487-9df3-e0fd58a333f4",
   "metadata": {},
   "outputs": [
    {
     "name": "stdout",
     "output_type": "stream",
     "text": [
      "4\n",
      "6\n",
      "8\n"
     ]
    }
   ],
   "source": [
    "arr_1d = np.array([1, 2, 3, 4])\n",
    "print(arr_1d.size)  # 4\n",
    "\n",
    "arr_2d = np.array([[1, 2, 3], [4, 5, 6]])\n",
    "print(arr_2d.size)  # 6 (2×3)\n",
    "\n",
    "arr_3d = np.array([[[1, 2], [3, 4]], [[5, 6], [7, 8]]])\n",
    "print(arr_3d.size)  # 8 (2×2×2)"
   ]
  },
  {
   "cell_type": "markdown",
   "id": "c711c041-8e5f-421b-8643-16cca2c834e0",
   "metadata": {},
   "source": [
    "## .ndim\n",
    "Le nombre de dimensions du ndarray."
   ]
  },
  {
   "cell_type": "code",
   "execution_count": 22,
   "id": "a342c953-c405-408c-a4d6-892995ed4615",
   "metadata": {},
   "outputs": [
    {
     "name": "stdout",
     "output_type": "stream",
     "text": [
      "1\n",
      "2\n",
      "3\n"
     ]
    }
   ],
   "source": [
    "arr_1d = np.array([1, 2, 3])\n",
    "print(arr_1d.ndim)  # 1\n",
    "\n",
    "arr_2d = np.array([[1, 2], [3, 4]])\n",
    "print(arr_2d.ndim)  # 2\n",
    "\n",
    "arr_3d = np.array([[[1, 2]], [[3, 4]]])\n",
    "print(arr_3d.ndim)  # 3"
   ]
  },
  {
   "cell_type": "markdown",
   "id": "b8dc65f7-dff9-4a0c-ba43-cac2f5efa3de",
   "metadata": {},
   "source": [
    "## .shape\n",
    "La forme du ndarray (tuple des dimensions)."
   ]
  },
  {
   "cell_type": "code",
   "execution_count": null,
   "id": "07e135ad-f0f0-4ed3-b083-fe4605298f25",
   "metadata": {},
   "outputs": [],
   "source": []
  }
 ],
 "metadata": {
  "kernelspec": {
   "display_name": "Python [conda env:base] *",
   "language": "python",
   "name": "conda-base-py"
  },
  "language_info": {
   "codemirror_mode": {
    "name": "ipython",
    "version": 3
   },
   "file_extension": ".py",
   "mimetype": "text/x-python",
   "name": "python",
   "nbconvert_exporter": "python",
   "pygments_lexer": "ipython3",
   "version": "3.12.7"
  }
 },
 "nbformat": 4,
 "nbformat_minor": 5
}
