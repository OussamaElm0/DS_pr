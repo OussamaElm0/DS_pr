{
 "cells": [
  {
   "cell_type": "markdown",
   "id": "1bddc9e6-49b8-4036-bc89-f9bfc5495f45",
   "metadata": {},
   "source": [
    "# Random"
   ]
  },
  {
   "cell_type": "markdown",
   "id": "0cc050cd-6db2-4583-aa75-e90c31c63b90",
   "metadata": {},
   "source": [
    "## Difference entre random.randint() & randrom.randrange()"
   ]
  },
  {
   "cell_type": "markdown",
   "id": "71ad3a0c-a59d-4c88-b672-f2806aac278a",
   "metadata": {},
   "source": [
    "### random.randint(0 [start], 10 [end]) :\n",
    "\n",
    "Genère un entier entre entre 0 et 10 (inclus).\n",
    "\n",
    "### random.randint(0 [start], 10 [end], 1 [step]) :\n",
    "\n",
    "Genère un entier entre 0 et 10 (exclus)"
   ]
  },
  {
   "cell_type": "code",
   "execution_count": 10,
   "id": "3126402a-3e77-4fc8-80c1-4a41f98e889e",
   "metadata": {},
   "outputs": [
    {
     "name": "stdout",
     "output_type": "stream",
     "text": [
      "0\n",
      "2\n"
     ]
    }
   ],
   "source": [
    "import random\n",
    "\n",
    "print(random.randint(0, 10)) # random int from [0, 1, 2, 3, 4, 5, 6, 7, 8, 9, 10]\n",
    "print(random.randrange(0, 10, 2)) # random int from [0, 2, 4, 6, 8]"
   ]
  },
  {
   "cell_type": "markdown",
   "id": "c72d0364-e89c-43a8-aaa1-a2ce755e9b9f",
   "metadata": {},
   "source": [
    "# random.choices() & random.sample()"
   ]
  },
  {
   "cell_type": "markdown",
   "id": "f243a8f2-4622-4594-ad37-5d57f2651d1d",
   "metadata": {},
   "source": [
    "### random.choices(population, k=1) :\n",
    "Sélectionne k éléments avec remise depuis une population (les éléments peuvent être répétés).\n",
    "\n",
    "### random.sample(population, k) :\n",
    "Sélectionne k éléments sans remise depuis une population (tous les éléments sont uniques).\n",
    "\n",
    "#### Args :\n",
    "- population : La séquence source depuis laquelle sélectionner les éléments (liste, tuple, string, set, etc.)\n",
    "- k : Le nombre d'éléments à sélectionner (doit être ≤ len(population))"
   ]
  },
  {
   "cell_type": "code",
   "execution_count": 24,
   "id": "34e96dea-0357-488e-8852-e505cbf19ea0",
   "metadata": {},
   "outputs": [
    {
     "name": "stdout",
     "output_type": "stream",
     "text": [
      "\n",
      "    choices: [3, 3, 1] \n",
      "    sample: [3, 4, 1]\n",
      "\n"
     ]
    }
   ],
   "source": [
    "liste = [1, 2, 3, 4, 5]\n",
    "\n",
    "# Avec remise - peut avoir des doublons\n",
    "choices = random.choices(liste, k=3)  # Peut donner [2, 2, 5]\n",
    "\n",
    "# Sans remise - tous uniques\n",
    "sample = random.sample(liste, 3)     # Peut donner [1, 4, 2]\n",
    "\n",
    "print(f\"\"\"\n",
    "    choices: {choices} \n",
    "    sample: {sample}\n",
    "\"\"\")"
   ]
  },
  {
   "cell_type": "markdown",
   "id": "5a407d41-c5d2-4310-b7fd-b64f0e6516c2",
   "metadata": {},
   "source": [
    "# Numpy"
   ]
  },
  {
   "cell_type": "markdown",
   "id": "adfc4dc5-5044-4b29-8737-24f034f15699",
   "metadata": {},
   "source": [
    "## .T (Transpose)\n",
    "Transpose la matrice. Pour un tableau 1D, retourne le tableau original."
   ]
  },
  {
   "cell_type": "code",
   "execution_count": 1,
   "id": "df5e6cd2-9c5d-47b3-9376-38938c6eca63",
   "metadata": {},
   "outputs": [
    {
     "name": "stdout",
     "output_type": "stream",
     "text": [
      "[[1 4]\n",
      " [2 5]\n",
      " [3 6]]\n",
      "[1 2 3]\n"
     ]
    }
   ],
   "source": [
    "import numpy as np\n",
    "\n",
    "arr_2d = np.array([[1, 2, 3], [4, 5, 6]])\n",
    "print(arr_2d.T)\n",
    "# [[1 4]\n",
    "#  [2 5]\n",
    "#  [3 6]]\n",
    "\n",
    "arr_1d = np.array([1, 2, 3])\n",
    "print(arr_1d.T)  # [1 2 3] (inchangé)"
   ]
  },
  {
   "cell_type": "markdown",
   "id": "72937595-d1b1-48eb-aa0c-5a56b2210ce7",
   "metadata": {},
   "source": [
    "## .data\n",
    "Pointeur vers la position mémoire des données du tableau."
   ]
  },
  {
   "cell_type": "code",
   "execution_count": 6,
   "id": "0dbca68a-bb26-42d1-8f73-8eea83992ec6",
   "metadata": {},
   "outputs": [
    {
     "name": "stdout",
     "output_type": "stream",
     "text": [
      "<memory at 0x73ccbd97d540>\n",
      "<memory at 0x73ccbd97d540>\n"
     ]
    }
   ],
   "source": [
    "arr = np.array([1, 2, 3, 4])\n",
    "print(arr.data)  # <memory at 0x...>\n",
    "\n",
    "# Exemple d'utilisation avec des vues\n",
    "view = arr[1:3]\n",
    "print(view.data)  # Pointe vers la même zone mémoire"
   ]
  },
  {
   "cell_type": "markdown",
   "id": "7359470e-08d4-461d-bf27-9d41f171bf07",
   "metadata": {},
   "source": [
    "## .dtype\n",
    "Type de données des éléments du ndarray.\n"
   ]
  },
  {
   "cell_type": "code",
   "execution_count": 9,
   "id": "7e3eadab-fc68-4715-b9dd-f1416c1562cb",
   "metadata": {},
   "outputs": [
    {
     "name": "stdout",
     "output_type": "stream",
     "text": [
      "int64\n",
      "float64\n",
      "<U1\n"
     ]
    }
   ],
   "source": [
    "arr_int = np.array([1, 2, 3])\n",
    "print(arr_int.dtype)  # int64\n",
    "\n",
    "arr_float = np.array([1.5, 2.7, 3.2])\n",
    "print(arr_float.dtype)  # float64\n",
    "\n",
    "arr_str = np.array(['a', 'b', 'c'])\n",
    "print(arr_str.dtype)  # <U1"
   ]
  },
  {
   "cell_type": "markdown",
   "id": "0ac86f4d-d2df-4b10-ba2d-d70445f3946c",
   "metadata": {},
   "source": [
    "## .flags\n",
    "Informations sur le stockage en mémoire du ndarray."
   ]
  },
  {
   "cell_type": "code",
   "execution_count": 12,
   "id": "141d5c74-900b-469d-a0ea-9ea2bbbc2102",
   "metadata": {},
   "outputs": [
    {
     "name": "stdout",
     "output_type": "stream",
     "text": [
      "  C_CONTIGUOUS : True\n",
      "  F_CONTIGUOUS : True\n",
      "  OWNDATA : True\n",
      "  WRITEABLE : True\n",
      "  ALIGNED : True\n",
      "  WRITEBACKIFCOPY : False\n",
      "\n"
     ]
    }
   ],
   "source": [
    "arr = np.array([1, 2, 3, 4])\n",
    "print(arr.flags)\n",
    "# C_CONTIGUOUS : True\n",
    "# F_CONTIGUOUS : True\n",
    "# OWNDATA : True\n",
    "# WRITEABLE : True\n",
    "# ALIGNED : True\n",
    "# WRITEBACKIFCOPY : False"
   ]
  },
  {
   "cell_type": "markdown",
   "id": "fbfc3030-b152-4cfb-b158-d14119777626",
   "metadata": {},
   "source": [
    "## .imag\n",
    "Partie imaginaire des données du ndarray (pour nombres complexes)."
   ]
  },
  {
   "cell_type": "code",
   "execution_count": 15,
   "id": "ad356ec1-e20f-4e55-a432-402157259401",
   "metadata": {},
   "outputs": [
    {
     "name": "stdout",
     "output_type": "stream",
     "text": [
      "[2. 4. 6.]\n",
      "[0 0 0]\n"
     ]
    }
   ],
   "source": [
    "arr_complex = np.array([1+2j, 3+4j, 5+6j])\n",
    "print(arr_complex.imag)  # [2. 4. 6.]\n",
    "\n",
    "arr_real = np.array([1, 2, 3])\n",
    "print(arr_real.imag)  # [0 0 0]"
   ]
  },
  {
   "cell_type": "markdown",
   "id": "a0d22a88-809f-47b7-b5e1-0b7d5d846dbf",
   "metadata": {},
   "source": [
    "## .size\n",
    "Le nombre total d'éléments dans le ndarray."
   ]
  },
  {
   "cell_type": "code",
   "execution_count": 18,
   "id": "14272aa5-a9df-4487-9df3-e0fd58a333f4",
   "metadata": {},
   "outputs": [
    {
     "name": "stdout",
     "output_type": "stream",
     "text": [
      "4\n",
      "6\n",
      "8\n"
     ]
    }
   ],
   "source": [
    "arr_1d = np.array([1, 2, 3, 4])\n",
    "print(arr_1d.size)  # 4\n",
    "\n",
    "arr_2d = np.array([[1, 2, 3], [4, 5, 6]])\n",
    "print(arr_2d.size)  # 6 (2×3)\n",
    "\n",
    "arr_3d = np.array([[[1, 2], [3, 4]], [[5, 6], [7, 8]]])\n",
    "print(arr_3d.size)  # 8 (2×2×2)"
   ]
  },
  {
   "cell_type": "markdown",
   "id": "c711c041-8e5f-421b-8643-16cca2c834e0",
   "metadata": {},
   "source": [
    "## .ndim\n",
    "Le nombre de dimensions du ndarray."
   ]
  },
  {
   "cell_type": "code",
   "execution_count": 22,
   "id": "a342c953-c405-408c-a4d6-892995ed4615",
   "metadata": {},
   "outputs": [
    {
     "name": "stdout",
     "output_type": "stream",
     "text": [
      "1\n",
      "2\n",
      "3\n"
     ]
    }
   ],
   "source": [
    "arr_1d = np.array([1, 2, 3])\n",
    "print(arr_1d.ndim)  # 1\n",
    "\n",
    "arr_2d = np.array([[1, 2], [3, 4]])\n",
    "print(arr_2d.ndim)  # 2\n",
    "\n",
    "arr_3d = np.array([[[1, 2]], [[3, 4]]])\n",
    "print(arr_3d.ndim)  # 3"
   ]
  },
  {
   "cell_type": "markdown",
   "id": "b8dc65f7-dff9-4a0c-ba43-cac2f5efa3de",
   "metadata": {},
   "source": [
    "## .shape\n",
    "La forme du ndarray (tuple des dimensions)."
   ]
  },
  {
   "cell_type": "markdown",
   "id": "447d0388-8d83-4118-99f0-cb22d14b97ca",
   "metadata": {},
   "source": [
    "## Constructeurs"
   ]
  },
  {
   "cell_type": "markdown",
   "id": "77e44b65-68a7-46b1-91f7-27c2f434247e",
   "metadata": {},
   "source": [
    "### eye()\n",
    "- Le tableau diagonal est le tableau 2-D avec des uns sur la diagonale et des zéros ailleurs. Il\n",
    "peut être créé avec la méthode np.eye()\n",
    "- Crée une matrice identité (ou matrice avec des 1 sur la diagonale principale)."
   ]
  },
  {
   "cell_type": "code",
   "execution_count": 16,
   "id": "5aba754c-0ae4-4522-b267-ff3f6df21d85",
   "metadata": {},
   "outputs": [
    {
     "name": "stdout",
     "output_type": "stream",
     "text": [
      "[[1. 0. 0.]\n",
      " [0. 1. 0.]\n",
      " [0. 0. 1.]]\n",
      "[[1. 0. 0.]\n",
      " [0. 1. 0.]\n",
      " [0. 0. 1.]\n",
      " [0. 0. 0.]]\n",
      "[[0. 1. 0.]\n",
      " [0. 0. 1.]\n",
      " [0. 0. 0.]]\n",
      "[[0. 0. 0.]\n",
      " [1. 0. 0.]\n",
      " [0. 1. 0.]]\n",
      "[[1 0 0]\n",
      " [0 1 0]\n",
      " [0 0 1]]\n"
     ]
    }
   ],
   "source": [
    "# Matrice identité 3×3\n",
    "print(np.eye(3))\n",
    "# [[1. 0. 0.]\n",
    "#  [0. 1. 0.]\n",
    "#  [0. 0. 1.]]\n",
    "\n",
    "# Matrice 4×3 avec des 1 sur la diagonale\n",
    "print(np.eye(4, 3))\n",
    "# [[1. 0. 0.]\n",
    "#  [0. 1. 0.]\n",
    "#  [0. 0. 1.]\n",
    "#  [0. 0. 0.]]\n",
    "\n",
    "# Décaler la diagonale vers la droite (k=1)\n",
    "print(np.eye(3, k=1))\n",
    "# [[0. 1. 0.]\n",
    "#  [0. 0. 1.]\n",
    "#  [0. 0. 0.]]\n",
    "\n",
    "# Décaler la diagonale vers la gauche (k=-1)\n",
    "print(np.eye(3, k=-1))\n",
    "# [[0. 0. 0.]\n",
    "#  [1. 0. 0.]\n",
    "#  [0. 1. 0.]]\n",
    "\n",
    "# Avec type entier\n",
    "print(np.eye(3, dtype=int))\n",
    "# [[1 0 0]\n",
    "#  [0 1 0]\n",
    "#  [0 0 1]]"
   ]
  },
  {
   "cell_type": "markdown",
   "id": "c58ef0de-0fe5-4c55-8585-d4d3bc4fc95c",
   "metadata": {},
   "source": [
    "### full()\n",
    "Permet de créer un tableau rempli de par un nombre ."
   ]
  },
  {
   "cell_type": "code",
   "execution_count": 21,
   "id": "030de694-254c-43a2-9a4c-464de7a9e994",
   "metadata": {},
   "outputs": [
    {
     "name": "stdout",
     "output_type": "stream",
     "text": [
      "[[2 2 2]\n",
      " [2 2 2]\n",
      " [2 2 2]\n",
      " [2 2 2]\n",
      " [2 2 2]]\n"
     ]
    }
   ],
   "source": [
    "print(np.full((5,3), 2))"
   ]
  },
  {
   "cell_type": "markdown",
   "id": "f51aef60-b5ce-430a-8cc9-283e38710e0a",
   "metadata": {},
   "source": [
    "### linspace(start, end ,q)\n",
    "Crée un tableau de nombres espacés uniformément sur un intervalle spécifié.\n",
    "\n",
    "#### Args:\n",
    "- q : nombre à générer"
   ]
  },
  {
   "cell_type": "code",
   "execution_count": 32,
   "id": "cda59821-2728-4482-af29-5b2ee5c4233e",
   "metadata": {},
   "outputs": [
    {
     "name": "stdout",
     "output_type": "stream",
     "text": [
      "[ 0  5 10 15 20]\n"
     ]
    }
   ],
   "source": [
    "print(np.linspace(0, 20, 5, dtype=int))"
   ]
  },
  {
   "cell_type": "markdown",
   "id": "98fd7e9f-34e2-4a79-b495-e9c27d413e64",
   "metadata": {},
   "source": [
    "### arange(start, end, step)\n",
    "Renvoie des nombres uniformément espacés sur un intervalle [début et fin]."
   ]
  },
  {
   "cell_type": "code",
   "execution_count": 42,
   "id": "a53c388e-8247-4d11-85af-cb489bc0cfeb",
   "metadata": {},
   "outputs": [
    {
     "name": "stdout",
     "output_type": "stream",
     "text": [
      "[0 2 4 6 8]\n",
      "[0 1 2 3 4 5 6 7 8 9]\n"
     ]
    }
   ],
   "source": [
    "print(np.arange(0, 10, 2))\n",
    "print(np.arange(0, 10))"
   ]
  },
  {
   "cell_type": "markdown",
   "id": "db221348-517c-44b6-abf2-d8400d93d685",
   "metadata": {},
   "source": [
    "### append(arr, values, axis)\n",
    "Ajoute des valeurs à la fin d'un tableau le long d'un axe spécifié.\n",
    "\n",
    "### Args:\n",
    "- arr : Tableau d'entrée\n",
    "- values : Valeurs à ajouter (même forme que arr sauf pour l'axe spécifié)\n",
    "- axis : Axe le long duquel ajouter (None = aplatir d'abord)"
   ]
  },
  {
   "cell_type": "code",
   "execution_count": 7,
   "id": "5a14b3ba-333a-4a92-ad93-5d803dab294c",
   "metadata": {},
   "outputs": [
    {
     "name": "stdout",
     "output_type": "stream",
     "text": [
      "Tableau 1D - axis=None (défaut)\n",
      "[1 2 3 4 5]\n",
      "Tableau 1D - axis=0 (équivalent à axis=None pour 1D)\n",
      "[1 2 3 4 5]\n",
      "Tableau 2D - axis=None (aplatit tout)\n",
      "[1 2 3 4 5 6]\n",
      "Tableau 2D - axis=0 (ajouter des lignes)\n",
      "[[1 2]\n",
      " [3 4]\n",
      " [5 6]]\n",
      "Tableau 2D - axis=1 (ajouter des colonnes)\n",
      "[[1 2 5]\n",
      " [3 4 6]]\n"
     ]
    }
   ],
   "source": [
    "# Tableau 1D - axis=None (défaut)\n",
    "print(\"Tableau 1D - axis=None (défaut)\")\n",
    "arr1d = np.array([1, 2, 3])\n",
    "result = np.append(arr1d, [4, 5])\n",
    "print(result)  # [1 2 3 4 5]\n",
    "\n",
    "# Tableau 1D - axis=0 (équivalent à axis=None pour 1D)\n",
    "print(\"Tableau 1D - axis=0 (équivalent à axis=None pour 1D)\")\n",
    "result = np.append(arr1d, [4, 5], axis=0)\n",
    "print(result)  # [1 2 3 4 5]\n",
    "\n",
    "# Tableau 2D - axis=None (aplatit tout)\n",
    "print(\"Tableau 2D - axis=None (aplatit tout)\")\n",
    "arr2d = np.array([[1, 2], [3, 4]])\n",
    "result = np.append(arr2d, [[5, 6]], axis=None)\n",
    "print(result)  # [1 2 3 4 5 6]\n",
    "\n",
    "# Tableau 2D - axis=0 (ajouter des lignes)\n",
    "print(\"Tableau 2D - axis=0 (ajouter des lignes)\")\n",
    "arr2d = np.array([[1, 2], [3, 4]])\n",
    "new_row = np.array([[5, 6]])\n",
    "result = np.append(arr2d, new_row, axis=0)\n",
    "print(result)\n",
    "# [[1 2]\n",
    "#  [3 4]\n",
    "#  [5 6]]\n",
    "\n",
    "# Tableau 2D - axis=1 (ajouter des colonnes)\n",
    "print(\"Tableau 2D - axis=1 (ajouter des colonnes)\")\n",
    "arr2d = np.array([[1, 2], [3, 4]])\n",
    "new_col = np.array([[5], [6]])\n",
    "result = np.append(arr2d, new_col, axis=1)\n",
    "print(result)\n",
    "# [[1 2 5]\n",
    "#  [3 4 6]]"
   ]
  },
  {
   "cell_type": "markdown",
   "id": "29fcc32f-110f-4fc5-a119-3802b5c733e6",
   "metadata": {},
   "source": [
    "### hstack\n",
    "Empile des tableaux horizontalement (côte à côte) - équivalent à concatenate avec axis=1."
   ]
  },
  {
   "cell_type": "code",
   "execution_count": 10,
   "id": "7f7c53be-3a1d-4475-86d6-65fd40db517d",
   "metadata": {},
   "outputs": [
    {
     "name": "stdout",
     "output_type": "stream",
     "text": [
      "[[1 2 5 6]\n",
      " [3 4 7 8]]\n"
     ]
    }
   ],
   "source": [
    "arr1 = np.array([[1, 2], [3, 4]])\n",
    "arr2 = np.array([[5, 6], [7, 8]])\n",
    "result = np.hstack([arr1, arr2])\n",
    "print(result)\n",
    "# [[1 2 5 6]\n",
    "#  [3 4 7 8]]"
   ]
  },
  {
   "cell_type": "markdown",
   "id": "5c7f3497-588c-4842-ba5e-7cdc8c9c5fe9",
   "metadata": {},
   "source": [
    "### ravel()\n",
    "ravel utilisée pour convertir transformer des tableaux N-dimensionnels en tableaux à dimension\n",
    "unique."
   ]
  },
  {
   "cell_type": "code",
   "execution_count": 17,
   "id": "e2297602-513f-4c39-b0c8-aff978c6c65b",
   "metadata": {},
   "outputs": [
    {
     "data": {
      "text/plain": [
       "array([1, 2, 3, 4, 5, 6, 7, 8, 9])"
      ]
     },
     "execution_count": 17,
     "metadata": {},
     "output_type": "execute_result"
    }
   ],
   "source": [
    "A = np.array([[1, 2, 3], [4, 5, 6], [7, 8,9]])\n",
    "A.ravel()"
   ]
  },
  {
   "cell_type": "markdown",
   "id": "186c6d6f-da9e-493f-b9c6-56b942f1b12b",
   "metadata": {},
   "source": [
    "### roll(a, shift, axis=None)\n",
    "Décale les éléments d'un tableau le long d'un axe spécifié (les éléments qui sortent d'un côté reviennent de l'autre).\n",
    "\n",
    "#### Args:\n",
    "- a : Tableau d'entrée\n",
    "- shift : Nombre de positions à décaler\n",
    "- axis : Axe le long duquel décaler (None = aplatir d'abord)"
   ]
  },
  {
   "cell_type": "code",
   "execution_count": 20,
   "id": "1f0c70c7-a05f-406d-8272-03213c4908de",
   "metadata": {},
   "outputs": [
    {
     "name": "stdout",
     "output_type": "stream",
     "text": [
      "Original: [1 2 3 4 5]\n",
      "Décalé +2: [4 5 1 2 3]\n"
     ]
    }
   ],
   "source": [
    "arr = np.array([1, 2, 3, 4, 5])\n",
    "result = np.roll(arr, 2)\n",
    "print(f\"Original: {arr}\")\n",
    "print(f\"Décalé +2: {result}\")"
   ]
  },
  {
   "cell_type": "markdown",
   "id": "1d87e32b-4808-472c-93e1-e24c5525b7d2",
   "metadata": {},
   "source": [
    "### Slicing\n",
    "Extraire des portions d'un tableau avec la syntaxe [start:stop:step]\n",
    "- start : Index de début (inclus)\n",
    "- stop : Index de fin (exclus)\n",
    "- step : Pas (défaut = 1)"
   ]
  },
  {
   "cell_type": "code",
   "execution_count": 25,
   "id": "7430ef30-1afd-4177-a6ee-29f965852acd",
   "metadata": {},
   "outputs": [
    {
     "name": "stdout",
     "output_type": "stream",
     "text": [
      "[[1 3]\n",
      " [4 6]]\n"
     ]
    },
    {
     "data": {
      "text/plain": [
       "array([[1, 2]])"
      ]
     },
     "execution_count": 25,
     "metadata": {},
     "output_type": "execute_result"
    }
   ],
   "source": [
    "arr = np.array([[1, 2, 3], [4, 5, 6], [7, 8, 9]])\n",
    "print(arr[:2, ::2])\n",
    "arr[:1,:2]"
   ]
  },
  {
   "cell_type": "markdown",
   "id": "eabd3d90-be5b-497c-930d-db68ecfccb99",
   "metadata": {},
   "source": [
    "### argsort()\n",
    "Retourne les positions dans l’ordre de tri du tableau, sans modifier le tableau"
   ]
  },
  {
   "cell_type": "code",
   "execution_count": 33,
   "id": "5328d356-ad2b-427e-9e36-193e9faabb69",
   "metadata": {},
   "outputs": [
    {
     "data": {
      "text/plain": [
       "array([6, 3, 1, 5, 4, 2, 0])"
      ]
     },
     "execution_count": 33,
     "metadata": {},
     "output_type": "execute_result"
    }
   ],
   "source": [
    "arg = np.array([98,4,50,2,34,8,0])\n",
    "arg.argsort()"
   ]
  },
  {
   "cell_type": "markdown",
   "id": "4e9bfff1-640d-4b0f-94ed-bcd443658a50",
   "metadata": {},
   "source": [
    "### unique()\n",
    "Récupère toutes les valeurs uniques dans le tableau NumPy donné et trie ces valeurs uniques."
   ]
  },
  {
   "cell_type": "code",
   "execution_count": 60,
   "id": "fb690c3e-5de8-4c82-8c7e-32a8970e81d7",
   "metadata": {},
   "outputs": [
    {
     "name": "stdout",
     "output_type": "stream",
     "text": [
      "[ 1  4  6 23 56]\n",
      "(array([ 1,  4,  6, 23, 56]), array([0, 6, 4, 2, 3]))\n",
      "(array([ 1,  4,  6, 23, 56]), array([2, 1, 2, 1, 1]))\n"
     ]
    }
   ],
   "source": [
    "unq = np.array([1,1,23,56,6,6,4])\n",
    "\n",
    "print(np.unique(unq))\n",
    "print(np.unique(unq, return_index=True))\n",
    "print(np.unique(unq, return_counts=True, axis=0))"
   ]
  },
  {
   "cell_type": "markdown",
   "id": "3cdcc253-2220-4c78-8e6e-7ea975f847ca",
   "metadata": {},
   "source": [
    "# Matplotlib"
   ]
  },
  {
   "cell_type": "code",
   "execution_count": 5,
   "id": "8d39e760-5471-4133-aab6-98c703657649",
   "metadata": {},
   "outputs": [],
   "source": [
    "import matplotlib.pyplot as plt"
   ]
  },
  {
   "cell_type": "markdown",
   "id": "d7b3d60e-712a-42c8-862e-ec1c495268d9",
   "metadata": {},
   "source": [
    "## Graphique simple"
   ]
  },
  {
   "cell_type": "code",
   "execution_count": 81,
   "id": "e6fd1255-210f-47c5-8a3f-e65351248a0d",
   "metadata": {},
   "outputs": [
    {
     "data": {
      "image/png": "[encoded data removed]",
      "text/plain": [
       "<Figure size 640x480 with 1 Axes>"
      ]
     },
     "metadata": {},
     "output_type": "display_data"
    }
   ],
   "source": [
    "x = np.linspace(0, 20, 100)\n",
    "y = np.sin(x)\n",
    "plt.plot(x, y)\n",
    "plt.show()"
   ]
  },
  {
   "cell_type": "code",
   "execution_count": 83,
   "id": "f46e9e37-93c3-40c2-83ad-dac2049e3587",
   "metadata": {},
   "outputs": [
    {
     "data": {
      "image/png": "[encoded data removed]",
      "text/plain": [
       "<Figure size 640x480 with 1 Axes>"
      ]
     },
     "metadata": {},
     "output_type": "display_data"
    }
   ],
   "source": [
    "plt.scatter(x, y)\n",
    "plt.show()"
   ]
  },
  {
   "cell_type": "markdown",
   "id": "08e78607-76ba-4b3b-85aa-0fd27860442d",
   "metadata": {},
   "source": [
    "## Styles Graphiques"
   ]
  },
  {
   "cell_type": "markdown",
   "id": "a8fc9463-05ff-4b62-8a10-73f1db343a3c",
   "metadata": {},
   "source": [
    "### Légende :\n",
    "\n",
    "- label : nomme votre courbe\n",
    "- legend() : affiche la légende (à placer avant show())\n",
    "\n",
    "### Apparence des lignes :\n",
    "\n",
    "- c : couleur\n",
    "- lw : épaisseur de la ligne\n",
    "- ls : style de ligne (continu, pointillé, etc.)\n",
    "\n",
    "### Apparence des points :\n",
    "\n",
    "- size : taille des points\n",
    "- marker : forme des points (cercle, carré, triangle, etc.)\n",
    "\n",
    "## Effet visuel :\n",
    "\n",
    "- alpha : niveau de transparence (de 0 à 1)\n",
    "\n",
    "Ces paramètres s'utilisent directement dans vos fonctions plot() ou scatter() pour personnaliser l'aspect de vos graphiques."
   ]
  },
  {
   "cell_type": "code",
   "execution_count": 88,
   "id": "39955140-a488-4c32-a93a-9494bd4ce19a",
   "metadata": {},
   "outputs": [
    {
     "data": {
      "image/png": "[encoded data removed]",
      "text/plain": [
       "<Figure size 640x480 with 1 Axes>"
      ]
     },
     "metadata": {},
     "output_type": "display_data"
    }
   ],
   "source": [
    "x = np.linspace(0, 10, 30)\n",
    "y = np.sin(x)\n",
    "\n",
    "# Graphique simple avec styles\n",
    "plt.plot(x, y, \n",
    "         label='Fonction sinus',  # nom pour la légende\n",
    "         c='blue',                # couleur bleue\n",
    "         lw=2,                    # épaisseur de ligne\n",
    "         ls='-',                  # ligne continue\n",
    "         alpha=0.8)               # transparence\n",
    "\n",
    "# Affichage\n",
    "plt.legend()                     # affiche la légende\n",
    "plt.title('Graphique simple')\n",
    "plt.show()"
   ]
  },
  {
   "cell_type": "markdown",
   "id": "e63623b2-aeca-471c-a5b8-ad6f1bf17938",
   "metadata": {},
   "source": [
    "## Cycle de vie d'une figure"
   ]
  },
  {
   "cell_type": "markdown",
   "id": "bcaae7c3-e949-41c3-a8c2-b6bd954e1c18",
   "metadata": {},
   "source": [
    "### 1. Créer la figure"
   ]
  },
  {
   "cell_type": "code",
   "execution_count": 92,
   "id": "c60046bf-5c3a-4a4d-9600-3bcec52a78bf",
   "metadata": {},
   "outputs": [
    {
     "data": {
      "text/plain": [
       "<Figure size 640x480 with 0 Axes>"
      ]
     },
     "execution_count": 92,
     "metadata": {},
     "output_type": "execute_result"
    },
    {
     "data": {
      "text/plain": [
       "<Figure size 640x480 with 0 Axes>"
      ]
     },
     "metadata": {},
     "output_type": "display_data"
    }
   ],
   "source": [
    "plt.figure()"
   ]
  },
  {
   "cell_type": "markdown",
   "id": "3a0a3595-01f1-44e8-b986-594b1ee8655b",
   "metadata": {},
   "source": [
    "### 2. Tracer les données"
   ]
  },
  {
   "cell_type": "code",
   "execution_count": 111,
   "id": "f594793a-9892-42ed-a938-9ec85dfec3c1",
   "metadata": {},
   "outputs": [
    {
     "data": {
      "text/plain": [
       "[<matplotlib.lines.Line2D at 0x73e090ee0440>]"
      ]
     },
     "execution_count": 111,
     "metadata": {},
     "output_type": "execute_result"
    },
    {
     "data": {
      "image/png": "[encoded data removed]",
      "text/plain": [
       "<Figure size 640x480 with 1 Axes>"
      ]
     },
     "metadata": {},
     "output_type": "display_data"
    }
   ],
   "source": [
    "plt.plot(x, y)"
   ]
  },
  {
   "cell_type": "markdown",
   "id": "d7d7ae2d-e6d7-4b42-b447-fe192ab80619",
   "metadata": {},
   "source": [
    "### 3. Personnaliser (optionnel)"
   ]
  },
  {
   "cell_type": "code",
   "execution_count": 113,
   "id": "907b3b5f-cadf-40d9-9fe5-bf61e2b24129",
   "metadata": {},
   "outputs": [
    {
     "data": {
      "text/plain": [
       "<matplotlib.legend.Legend at 0x73e090dbe990>"
      ]
     },
     "execution_count": 113,
     "metadata": {},
     "output_type": "execute_result"
    },
    {
     "data": {
      "image/png": "[encoded data removed]",
      "text/plain": [
       "<Figure size 640x480 with 1 Axes>"
      ]
     },
     "metadata": {},
     "output_type": "display_data"
    }
   ],
   "source": [
    "plt.title(\"Cycle de vie d'une figure\")\n",
    "plt.xlabel(\"x\")\n",
    "plt.ylabel(\"y\")\n",
    "plt.legend()"
   ]
  },
  {
   "cell_type": "markdown",
   "id": "bc21bc35-a645-422a-81dc-add0ad814f91",
   "metadata": {},
   "source": [
    "### 4. Afficher"
   ]
  },
  {
   "cell_type": "code",
   "execution_count": 115,
   "id": "058cde44-c2e7-40c1-9c50-83f5d3fcdf4b",
   "metadata": {},
   "outputs": [],
   "source": [
    "plt.show()"
   ]
  },
  {
   "cell_type": "markdown",
   "id": "92b0be81-6516-4900-b408-de77846c8e4b",
   "metadata": {},
   "source": [
    "### X. Recap:"
   ]
  },
  {
   "cell_type": "code",
   "execution_count": 136,
   "id": "f6ca67e9-920b-4cc7-a826-d5652c9d9925",
   "metadata": {},
   "outputs": [
    {
     "data": {
      "image/png": "[encoded data removed]",
      "text/plain": [
       "<Figure size 800x600 with 1 Axes>"
      ]
     },
     "metadata": {},
     "output_type": "display_data"
    }
   ],
   "source": [
    "#1\n",
    "plt.figure(figsize=(8, 6))\n",
    "\n",
    "#2\n",
    "plt.plot(x, y, label=\"CVF\")\n",
    "\n",
    "#3\n",
    "plt.title(\"Cycle de vie d'une figure\")\n",
    "plt.xlabel(\"X\")\n",
    "plt.ylabel(\"Y\")\n",
    "plt.legend()\n",
    "\n",
    "#4\n",
    "plt.show()"
   ]
  },
  {
   "cell_type": "markdown",
   "id": "6e0a67fe-ce39-485e-a12b-3ea4f69be261",
   "metadata": {},
   "source": [
    "## Subplot"
   ]
  },
  {
   "cell_type": "markdown",
   "id": "b42d58d6-0bec-422b-96e2-72c4ffa039b6",
   "metadata": {},
   "source": [
    "Les subplot permettent de créer plusieurs graphiques sur une même figure:"
   ]
  },
  {
   "cell_type": "code",
   "execution_count": 15,
   "id": "4eb9fc74-7694-46b1-bc8f-b94e98a5ed96",
   "metadata": {},
   "outputs": [
    {
     "data": {
      "image/png": "[encoded data removed]",
      "text/plain": [
       "<Figure size 1200x400 with 2 Axes>"
      ]
     },
     "metadata": {},
     "output_type": "display_data"
    }
   ],
   "source": [
    "x = np.linspace(0, 10, 30)\n",
    "y1 = np.sin(x)\n",
    "y2 = np.cos(x)\n",
    "\n",
    "plt.figure(figsize=(12, 4))\n",
    "# Créer 2 sous-graphiques (1 ligne, 2 colonnes)\n",
    "plt.subplot(1, 2, 1)  # Premier graphique\n",
    "plt.plot(x, y1, c='red')\n",
    "plt.title('Sinus')\n",
    "\n",
    "plt.subplot(1, 2, 2)  # Deuxième graphique\n",
    "plt.plot(x, y2, c='blue')\n",
    "plt.title('Cosinus')\n",
    "\n",
    "plt.show()"
   ]
  },
  {
   "cell_type": "markdown",
   "id": "ac7becc1-3e68-43da-b9ee-8fa0c118aef8",
   "metadata": {},
   "source": [
    "## Graphique de classification"
   ]
  },
  {
   "cell_type": "markdown",
   "id": "8fb50af3-6522-4dcc-9d19-b06160c7a6e1",
   "metadata": {},
   "source": [
    "- make_blobs() : génère des données de classification avec des \"blobs\" (groupes) gaussiens\n",
    "- n_samples=100 : 100 points au total\n",
    "- n_features=2 : 2 caractéristiques (pour visualisation 2D)\n",
    "- c=y : colorie les points selon leur classe\n",
    "- cmap='winter' : utilise la palette de couleurs \"winter\" (bleu-vert)"
   ]
  },
  {
   "cell_type": "code",
   "execution_count": 24,
   "id": "74555a8b-067a-49a4-8cec-fbfe158361ed",
   "metadata": {},
   "outputs": [
    {
     "data": {
      "image/png": "[encoded data removed]",
      "text/plain": [
       "<Figure size 640x480 with 1 Axes>"
      ]
     },
     "metadata": {},
     "output_type": "display_data"
    }
   ],
   "source": [
    "from sklearn.datasets import make_blobs\n",
    "\n",
    "X, y = make_blobs(n_samples=100, n_features=2)\n",
    "y = y.reshape((len(y), 1))\n",
    "\n",
    "# Créer le graphique de classification\n",
    "plt.scatter(X[:, 0], X[:, 1], c=y, cmap='winter')\n",
    "plt.title('Graphique de classification - Dataset make_blobs')\n",
    "plt.xlabel('Feature 1')\n",
    "plt.ylabel('Feature 2')\n",
    "plt.show()"
   ]
  },
  {
   "cell_type": "markdown",
   "id": "24632ca6-52f2-4f5a-b0b6-0ad392266c2a",
   "metadata": {},
   "source": [
    "## Histogrammes"
   ]
  },
  {
   "cell_type": "markdown",
   "id": "1d9ec393-57fb-42f6-b7bf-416d23af5f10",
   "metadata": {},
   "source": [
    "Graphique qui montre la distribution d'une variable quantitative en divisant les données en intervalles (bins)."
   ]
  },
  {
   "cell_type": "code",
   "execution_count": 34,
   "id": "5e0e3b72-01df-420a-8380-1153f64e1e9a",
   "metadata": {},
   "outputs": [
    {
     "data": {
      "text/plain": [
       "(array([16., 15.,  2.,  0.,  0., 10., 21.,  5., 13., 18.]),\n",
       " array([-7.93348512, -6.12122343, -4.30896173, -2.49670004, -0.68443834,\n",
       "         1.12782335,  2.94008505,  4.75234674,  6.56460843,  8.37687013,\n",
       "        10.18913182]),\n",
       " <BarContainer object of 10 artists>)"
      ]
     },
     "execution_count": 34,
     "metadata": {},
     "output_type": "execute_result"
    },
    {
     "data": {
      "image/png": "[encoded data removed]",
      "text/plain": [
       "<Figure size 640x480 with 1 Axes>"
      ]
     },
     "metadata": {},
     "output_type": "display_data"
    }
   ],
   "source": [
    "plt.hist(X[:, 0])"
   ]
  },
  {
   "cell_type": "markdown",
   "id": "6d0b8640-db7b-4444-9958-d64fad35ae2b",
   "metadata": {},
   "source": [
    "Le paramètre bins permet d’augmenter le nombre de section dans notre histogramme.\n",
    "\n",
    "bins : nombre d'intervalles (plus = plus détaillé)"
   ]
  },
  {
   "cell_type": "code",
   "execution_count": 46,
   "id": "876881f6-98e3-474b-8ce8-054ddb1b9272",
   "metadata": {},
   "outputs": [
    {
     "data": {
      "text/plain": [
       "(array([2., 2., 2., 4., 6., 4., 3., 3., 2., 3., 0., 1., 1., 0., 0., 0., 0.,\n",
       "        0., 0., 0., 0., 0., 0., 0., 0., 1., 0., 2., 2., 5., 3., 6., 4., 6.,\n",
       "        2., 3., 0., 0., 1., 1., 0., 4., 2., 3., 4., 4., 6., 3., 3., 2.]),\n",
       " array([-7.93348512, -7.57103278, -7.20858045, -6.84612811, -6.48367577,\n",
       "        -6.12122343, -5.75877109, -5.39631875, -5.03386641, -4.67141407,\n",
       "        -4.30896173, -3.9465094 , -3.58405706, -3.22160472, -2.85915238,\n",
       "        -2.49670004, -2.1342477 , -1.77179536, -1.40934302, -1.04689068,\n",
       "        -0.68443834, -0.32198601,  0.04046633,  0.40291867,  0.76537101,\n",
       "         1.12782335,  1.49027569,  1.85272803,  2.21518037,  2.57763271,\n",
       "         2.94008505,  3.30253738,  3.66498972,  4.02744206,  4.3898944 ,\n",
       "         4.75234674,  5.11479908,  5.47725142,  5.83970376,  6.2021561 ,\n",
       "         6.56460843,  6.92706077,  7.28951311,  7.65196545,  8.01441779,\n",
       "         8.37687013,  8.73932247,  9.10177481,  9.46422715,  9.82667949,\n",
       "        10.18913182]),\n",
       " <BarContainer object of 50 artists>)"
      ]
     },
     "execution_count": 46,
     "metadata": {},
     "output_type": "execute_result"
    },
    {
     "data": {
      "image/png": "[encoded data removed]",
      "text/plain": [
       "<Figure size 640x480 with 1 Axes>"
      ]
     },
     "metadata": {},
     "output_type": "display_data"
    }
   ],
   "source": [
    "plt.hist(X[:, 0], bins=50)"
   ]
  },
  {
   "cell_type": "markdown",
   "id": "5678b9ed-b2d6-4bfe-91be-05c6521a37e7",
   "metadata": {},
   "source": [
    "# Pandas"
   ]
  },
  {
   "cell_type": "code",
   "execution_count": 52,
   "id": "bc61e5e5-9ea1-4ca7-a4a3-8449845fc199",
   "metadata": {},
   "outputs": [],
   "source": [
    "import pandas as pd"
   ]
  },
  {
   "cell_type": "markdown",
   "id": "4c46ba93-b4f4-47ef-be57-b8175c0985e0",
   "metadata": {},
   "source": [
    "## Charger les données dans un DataFrame Pandas depuis un fichier csv"
   ]
  },
  {
   "cell_type": "code",
   "execution_count": 91,
   "id": "9b2944be-1364-4c8f-b6e9-75033855d63c",
   "metadata": {
    "scrolled": true
   },
   "outputs": [
    {
     "data": {
      "text/html": [
       "<div>\n",
       "<style scoped>\n",
       "    .dataframe tbody tr th:only-of-type {\n",
       "        vertical-align: middle;\n",
       "    }\n",
       "\n",
       "    .dataframe tbody tr th {\n",
       "        vertical-align: top;\n",
       "    }\n",
       "\n",
       "    .dataframe thead th {\n",
       "        text-align: right;\n",
       "    }\n",
       "</style>\n",
       "<table border=\"1\" class=\"dataframe\">\n",
       "  <thead>\n",
       "    <tr style=\"text-align: right;\">\n",
       "      <th></th>\n",
       "      <th>text</th>\n",
       "      <th>intent</th>\n",
       "    </tr>\n",
       "  </thead>\n",
       "  <tbody>\n",
       "    <tr>\n",
       "      <th>0</th>\n",
       "      <td>I need help reducing my food expenses.</td>\n",
       "      <td>saving_strategy</td>\n",
       "    </tr>\n",
       "    <tr>\n",
       "      <th>1</th>\n",
       "      <td>Advice to build my savings.</td>\n",
       "      <td>saving_strategy</td>\n",
       "    </tr>\n",
       "    <tr>\n",
       "      <th>2</th>\n",
       "      <td>How can I save more money each month?</td>\n",
       "      <td>saving_strategy</td>\n",
       "    </tr>\n",
       "    <tr>\n",
       "      <th>3</th>\n",
       "      <td>Give me ideas to lower my expenses.</td>\n",
       "      <td>saving_strategy</td>\n",
       "    </tr>\n",
       "    <tr>\n",
       "      <th>4</th>\n",
       "      <td>Suggest ways to spend less.</td>\n",
       "      <td>saving_strategy</td>\n",
       "    </tr>\n",
       "    <tr>\n",
       "      <th>...</th>\n",
       "      <td>...</td>\n",
       "      <td>...</td>\n",
       "    </tr>\n",
       "    <tr>\n",
       "      <th>195</th>\n",
       "      <td>Where can I invest my leftover money?</td>\n",
       "      <td>investment_suggestion</td>\n",
       "    </tr>\n",
       "    <tr>\n",
       "      <th>196</th>\n",
       "      <td>Turn my budget into an asset?</td>\n",
       "      <td>investment_suggestion</td>\n",
       "    </tr>\n",
       "    <tr>\n",
       "      <th>197</th>\n",
       "      <td>Give me ideas to use my extra cash wisely.</td>\n",
       "      <td>investment_suggestion</td>\n",
       "    </tr>\n",
       "    <tr>\n",
       "      <th>198</th>\n",
       "      <td>Investment opportunities based on my habits?</td>\n",
       "      <td>investment_suggestion</td>\n",
       "    </tr>\n",
       "    <tr>\n",
       "      <th>199</th>\n",
       "      <td>Suggest something smart for my savings.</td>\n",
       "      <td>investment_suggestion</td>\n",
       "    </tr>\n",
       "  </tbody>\n",
       "</table>\n",
       "<p>200 rows × 2 columns</p>\n",
       "</div>"
      ],
      "text/plain": [
       "                                             text                 intent\n",
       "0          I need help reducing my food expenses.        saving_strategy\n",
       "1                     Advice to build my savings.        saving_strategy\n",
       "2           How can I save more money each month?        saving_strategy\n",
       "3             Give me ideas to lower my expenses.        saving_strategy\n",
       "4                     Suggest ways to spend less.        saving_strategy\n",
       "..                                            ...                    ...\n",
       "195         Where can I invest my leftover money?  investment_suggestion\n",
       "196                 Turn my budget into an asset?  investment_suggestion\n",
       "197    Give me ideas to use my extra cash wisely.  investment_suggestion\n",
       "198  Investment opportunities based on my habits?  investment_suggestion\n",
       "199       Suggest something smart for my savings.  investment_suggestion\n",
       "\n",
       "[200 rows x 2 columns]"
      ]
     },
     "execution_count": 91,
     "metadata": {},
     "output_type": "execute_result"
    }
   ],
   "source": [
    "df = pd.read_csv(\"budget_chatbot_training_data.csv\")\n",
    "df"
   ]
  },
  {
   "cell_type": "markdown",
   "id": "b9bc8304-50ea-4233-92d4-ec3f07d5d3d9",
   "metadata": {},
   "source": [
    "## Commande de base"
   ]
  },
  {
   "cell_type": "markdown",
   "id": "2e2bd31c-d96a-4d2b-a18c-6229a7923395",
   "metadata": {},
   "source": [
    "### Indiquer la taille du DataFrame"
   ]
  },
  {
   "cell_type": "code",
   "execution_count": 63,
   "id": "a59dfb08-c3f3-4e1f-beb7-91ea6e7c587c",
   "metadata": {},
   "outputs": [
    {
     "data": {
      "text/plain": [
       "(200, 2)"
      ]
     },
     "execution_count": 63,
     "metadata": {},
     "output_type": "execute_result"
    }
   ],
   "source": [
    "df.shape"
   ]
  },
  {
   "cell_type": "markdown",
   "id": "b2c58a46-0575-47f7-99b1-6491ff4c5fce",
   "metadata": {},
   "source": [
    "### Donner les différentes colonne du Dataframe"
   ]
  },
  {
   "cell_type": "code",
   "execution_count": 66,
   "id": "1bd1b478-5042-418c-b672-64fee7bda939",
   "metadata": {},
   "outputs": [
    {
     "data": {
      "text/plain": [
       "Index(['text', 'intent'], dtype='object')"
      ]
     },
     "execution_count": 66,
     "metadata": {},
     "output_type": "execute_result"
    }
   ],
   "source": [
    "df.columns"
   ]
  },
  {
   "cell_type": "markdown",
   "id": "deeb3ec8-498b-4323-bc9f-c8aef90b3477",
   "metadata": {},
   "source": [
    "### Affiche les premières ligne du DataFrame (tail pour la fin)\n",
    "Peut prendre un argument"
   ]
  },
  {
   "cell_type": "code",
   "execution_count": 73,
   "id": "5ad797c0-7fd2-4d80-81a5-e702e9bc8ef3",
   "metadata": {},
   "outputs": [
    {
     "data": {
      "text/html": [
       "<div>\n",
       "<style scoped>\n",
       "    .dataframe tbody tr th:only-of-type {\n",
       "        vertical-align: middle;\n",
       "    }\n",
       "\n",
       "    .dataframe tbody tr th {\n",
       "        vertical-align: top;\n",
       "    }\n",
       "\n",
       "    .dataframe thead th {\n",
       "        text-align: right;\n",
       "    }\n",
       "</style>\n",
       "<table border=\"1\" class=\"dataframe\">\n",
       "  <thead>\n",
       "    <tr style=\"text-align: right;\">\n",
       "      <th></th>\n",
       "      <th>text</th>\n",
       "      <th>intent</th>\n",
       "    </tr>\n",
       "  </thead>\n",
       "  <tbody>\n",
       "    <tr>\n",
       "      <th>0</th>\n",
       "      <td>I need help reducing my food expenses.</td>\n",
       "      <td>saving_strategy</td>\n",
       "    </tr>\n",
       "    <tr>\n",
       "      <th>1</th>\n",
       "      <td>Advice to build my savings.</td>\n",
       "      <td>saving_strategy</td>\n",
       "    </tr>\n",
       "    <tr>\n",
       "      <th>2</th>\n",
       "      <td>How can I save more money each month?</td>\n",
       "      <td>saving_strategy</td>\n",
       "    </tr>\n",
       "    <tr>\n",
       "      <th>3</th>\n",
       "      <td>Give me ideas to lower my expenses.</td>\n",
       "      <td>saving_strategy</td>\n",
       "    </tr>\n",
       "    <tr>\n",
       "      <th>4</th>\n",
       "      <td>Suggest ways to spend less.</td>\n",
       "      <td>saving_strategy</td>\n",
       "    </tr>\n",
       "  </tbody>\n",
       "</table>\n",
       "</div>"
      ],
      "text/plain": [
       "                                     text           intent\n",
       "0  I need help reducing my food expenses.  saving_strategy\n",
       "1             Advice to build my savings.  saving_strategy\n",
       "2   How can I save more money each month?  saving_strategy\n",
       "3     Give me ideas to lower my expenses.  saving_strategy\n",
       "4             Suggest ways to spend less.  saving_strategy"
      ]
     },
     "execution_count": 73,
     "metadata": {},
     "output_type": "execute_result"
    }
   ],
   "source": [
    "df.head()"
   ]
  },
  {
   "cell_type": "code",
   "execution_count": 75,
   "id": "fb8ced55-9d45-4caa-9bc2-3f763bad5500",
   "metadata": {},
   "outputs": [
    {
     "data": {
      "text/html": [
       "<div>\n",
       "<style scoped>\n",
       "    .dataframe tbody tr th:only-of-type {\n",
       "        vertical-align: middle;\n",
       "    }\n",
       "\n",
       "    .dataframe tbody tr th {\n",
       "        vertical-align: top;\n",
       "    }\n",
       "\n",
       "    .dataframe thead th {\n",
       "        text-align: right;\n",
       "    }\n",
       "</style>\n",
       "<table border=\"1\" class=\"dataframe\">\n",
       "  <thead>\n",
       "    <tr style=\"text-align: right;\">\n",
       "      <th></th>\n",
       "      <th>text</th>\n",
       "      <th>intent</th>\n",
       "    </tr>\n",
       "  </thead>\n",
       "  <tbody>\n",
       "    <tr>\n",
       "      <th>0</th>\n",
       "      <td>I need help reducing my food expenses.</td>\n",
       "      <td>saving_strategy</td>\n",
       "    </tr>\n",
       "    <tr>\n",
       "      <th>1</th>\n",
       "      <td>Advice to build my savings.</td>\n",
       "      <td>saving_strategy</td>\n",
       "    </tr>\n",
       "    <tr>\n",
       "      <th>2</th>\n",
       "      <td>How can I save more money each month?</td>\n",
       "      <td>saving_strategy</td>\n",
       "    </tr>\n",
       "    <tr>\n",
       "      <th>3</th>\n",
       "      <td>Give me ideas to lower my expenses.</td>\n",
       "      <td>saving_strategy</td>\n",
       "    </tr>\n",
       "    <tr>\n",
       "      <th>4</th>\n",
       "      <td>Suggest ways to spend less.</td>\n",
       "      <td>saving_strategy</td>\n",
       "    </tr>\n",
       "    <tr>\n",
       "      <th>5</th>\n",
       "      <td>How do I stop overspending?</td>\n",
       "      <td>saving_strategy</td>\n",
       "    </tr>\n",
       "    <tr>\n",
       "      <th>6</th>\n",
       "      <td>Help me control my daily expenses.</td>\n",
       "      <td>saving_strategy</td>\n",
       "    </tr>\n",
       "    <tr>\n",
       "      <th>7</th>\n",
       "      <td>Any tips on cutting unnecessary costs?</td>\n",
       "      <td>saving_strategy</td>\n",
       "    </tr>\n",
       "    <tr>\n",
       "      <th>8</th>\n",
       "      <td>Help me manage my bills better.</td>\n",
       "      <td>saving_strategy</td>\n",
       "    </tr>\n",
       "    <tr>\n",
       "      <th>9</th>\n",
       "      <td>Teach me to live more frugally.</td>\n",
       "      <td>saving_strategy</td>\n",
       "    </tr>\n",
       "  </tbody>\n",
       "</table>\n",
       "</div>"
      ],
      "text/plain": [
       "                                     text           intent\n",
       "0  I need help reducing my food expenses.  saving_strategy\n",
       "1             Advice to build my savings.  saving_strategy\n",
       "2   How can I save more money each month?  saving_strategy\n",
       "3     Give me ideas to lower my expenses.  saving_strategy\n",
       "4             Suggest ways to spend less.  saving_strategy\n",
       "5             How do I stop overspending?  saving_strategy\n",
       "6      Help me control my daily expenses.  saving_strategy\n",
       "7  Any tips on cutting unnecessary costs?  saving_strategy\n",
       "8         Help me manage my bills better.  saving_strategy\n",
       "9         Teach me to live more frugally.  saving_strategy"
      ]
     },
     "execution_count": 75,
     "metadata": {},
     "output_type": "execute_result"
    }
   ],
   "source": [
    "df.head(10)"
   ]
  },
  {
   "cell_type": "markdown",
   "id": "6fce4818-d785-4865-9fa3-15c558272128",
   "metadata": {},
   "source": [
    "### Affiche les statistiques de base du Datarame\n",
    "(Moyenne écart type, min, max….)"
   ]
  },
  {
   "cell_type": "code",
   "execution_count": 80,
   "id": "0d5d5e5b-f724-4969-8a80-ca98f958d1fd",
   "metadata": {},
   "outputs": [
    {
     "data": {
      "text/html": [
       "<div>\n",
       "<style scoped>\n",
       "    .dataframe tbody tr th:only-of-type {\n",
       "        vertical-align: middle;\n",
       "    }\n",
       "\n",
       "    .dataframe tbody tr th {\n",
       "        vertical-align: top;\n",
       "    }\n",
       "\n",
       "    .dataframe thead th {\n",
       "        text-align: right;\n",
       "    }\n",
       "</style>\n",
       "<table border=\"1\" class=\"dataframe\">\n",
       "  <thead>\n",
       "    <tr style=\"text-align: right;\">\n",
       "      <th></th>\n",
       "      <th>text</th>\n",
       "      <th>intent</th>\n",
       "    </tr>\n",
       "  </thead>\n",
       "  <tbody>\n",
       "    <tr>\n",
       "      <th>count</th>\n",
       "      <td>200</td>\n",
       "      <td>200</td>\n",
       "    </tr>\n",
       "    <tr>\n",
       "      <th>unique</th>\n",
       "      <td>100</td>\n",
       "      <td>10</td>\n",
       "    </tr>\n",
       "    <tr>\n",
       "      <th>top</th>\n",
       "      <td>I need help reducing my food expenses.</td>\n",
       "      <td>saving_strategy</td>\n",
       "    </tr>\n",
       "    <tr>\n",
       "      <th>freq</th>\n",
       "      <td>2</td>\n",
       "      <td>20</td>\n",
       "    </tr>\n",
       "  </tbody>\n",
       "</table>\n",
       "</div>"
      ],
      "text/plain": [
       "                                          text           intent\n",
       "count                                      200              200\n",
       "unique                                     100               10\n",
       "top     I need help reducing my food expenses.  saving_strategy\n",
       "freq                                         2               20"
      ]
     },
     "execution_count": 80,
     "metadata": {},
     "output_type": "execute_result"
    }
   ],
   "source": [
    "df.describe()"
   ]
  },
  {
   "cell_type": "markdown",
   "id": "e33bcd8d-21c5-4d01-8a79-f96a59d246e9",
   "metadata": {},
   "source": [
    "### Supprimer une colonne"
   ]
  },
  {
   "cell_type": "code",
   "execution_count": 105,
   "id": "7a7fcc20-b956-4bdb-896f-4c124a583a73",
   "metadata": {},
   "outputs": [
    {
     "data": {
      "text/html": [
       "<div>\n",
       "<style scoped>\n",
       "    .dataframe tbody tr th:only-of-type {\n",
       "        vertical-align: middle;\n",
       "    }\n",
       "\n",
       "    .dataframe tbody tr th {\n",
       "        vertical-align: top;\n",
       "    }\n",
       "\n",
       "    .dataframe thead th {\n",
       "        text-align: right;\n",
       "    }\n",
       "</style>\n",
       "<table border=\"1\" class=\"dataframe\">\n",
       "  <thead>\n",
       "    <tr style=\"text-align: right;\">\n",
       "      <th></th>\n",
       "      <th>text</th>\n",
       "      <th>intent</th>\n",
       "    </tr>\n",
       "  </thead>\n",
       "  <tbody>\n",
       "    <tr>\n",
       "      <th>0</th>\n",
       "      <td>I need help reducing my food expenses.</td>\n",
       "      <td>saving_strategy</td>\n",
       "    </tr>\n",
       "    <tr>\n",
       "      <th>1</th>\n",
       "      <td>Advice to build my savings.</td>\n",
       "      <td>saving_strategy</td>\n",
       "    </tr>\n",
       "    <tr>\n",
       "      <th>2</th>\n",
       "      <td>How can I save more money each month?</td>\n",
       "      <td>saving_strategy</td>\n",
       "    </tr>\n",
       "    <tr>\n",
       "      <th>3</th>\n",
       "      <td>Give me ideas to lower my expenses.</td>\n",
       "      <td>saving_strategy</td>\n",
       "    </tr>\n",
       "    <tr>\n",
       "      <th>4</th>\n",
       "      <td>Suggest ways to spend less.</td>\n",
       "      <td>saving_strategy</td>\n",
       "    </tr>\n",
       "    <tr>\n",
       "      <th>...</th>\n",
       "      <td>...</td>\n",
       "      <td>...</td>\n",
       "    </tr>\n",
       "    <tr>\n",
       "      <th>195</th>\n",
       "      <td>Where can I invest my leftover money?</td>\n",
       "      <td>investment_suggestion</td>\n",
       "    </tr>\n",
       "    <tr>\n",
       "      <th>196</th>\n",
       "      <td>Turn my budget into an asset?</td>\n",
       "      <td>investment_suggestion</td>\n",
       "    </tr>\n",
       "    <tr>\n",
       "      <th>197</th>\n",
       "      <td>Give me ideas to use my extra cash wisely.</td>\n",
       "      <td>investment_suggestion</td>\n",
       "    </tr>\n",
       "    <tr>\n",
       "      <th>198</th>\n",
       "      <td>Investment opportunities based on my habits?</td>\n",
       "      <td>investment_suggestion</td>\n",
       "    </tr>\n",
       "    <tr>\n",
       "      <th>199</th>\n",
       "      <td>Suggest something smart for my savings.</td>\n",
       "      <td>investment_suggestion</td>\n",
       "    </tr>\n",
       "  </tbody>\n",
       "</table>\n",
       "<p>200 rows × 2 columns</p>\n",
       "</div>"
      ],
      "text/plain": [
       "                                             text                 intent\n",
       "0          I need help reducing my food expenses.        saving_strategy\n",
       "1                     Advice to build my savings.        saving_strategy\n",
       "2           How can I save more money each month?        saving_strategy\n",
       "3             Give me ideas to lower my expenses.        saving_strategy\n",
       "4                     Suggest ways to spend less.        saving_strategy\n",
       "..                                            ...                    ...\n",
       "195         Where can I invest my leftover money?  investment_suggestion\n",
       "196                 Turn my budget into an asset?  investment_suggestion\n",
       "197    Give me ideas to use my extra cash wisely.  investment_suggestion\n",
       "198  Investment opportunities based on my habits?  investment_suggestion\n",
       "199       Suggest something smart for my savings.  investment_suggestion\n",
       "\n",
       "[200 rows x 2 columns]"
      ]
     },
     "execution_count": 105,
     "metadata": {},
     "output_type": "execute_result"
    }
   ],
   "source": [
    "df.drop([\"intent\"])"
   ]
  },
  {
   "cell_type": "markdown",
   "id": "d8c48846-49f9-403c-8d78-78476fb01cb0",
   "metadata": {},
   "source": [
    "### Supprimer les lignes qui contiennent des valeurs manquantes"
   ]
  },
  {
   "cell_type": "code",
   "execution_count": 109,
   "id": "e7a9e4c9-4ba8-4be1-9059-2511514e5a69",
   "metadata": {},
   "outputs": [
    {
     "data": {
      "text/html": [
       "<div>\n",
       "<style scoped>\n",
       "    .dataframe tbody tr th:only-of-type {\n",
       "        vertical-align: middle;\n",
       "    }\n",
       "\n",
       "    .dataframe tbody tr th {\n",
       "        vertical-align: top;\n",
       "    }\n",
       "\n",
       "    .dataframe thead th {\n",
       "        text-align: right;\n",
       "    }\n",
       "</style>\n",
       "<table border=\"1\" class=\"dataframe\">\n",
       "  <thead>\n",
       "    <tr style=\"text-align: right;\">\n",
       "      <th></th>\n",
       "      <th>text</th>\n",
       "      <th>intent</th>\n",
       "    </tr>\n",
       "  </thead>\n",
       "  <tbody>\n",
       "    <tr>\n",
       "      <th>0</th>\n",
       "      <td>I need help reducing my food expenses.</td>\n",
       "      <td>saving_strategy</td>\n",
       "    </tr>\n",
       "    <tr>\n",
       "      <th>1</th>\n",
       "      <td>Advice to build my savings.</td>\n",
       "      <td>saving_strategy</td>\n",
       "    </tr>\n",
       "    <tr>\n",
       "      <th>2</th>\n",
       "      <td>How can I save more money each month?</td>\n",
       "      <td>saving_strategy</td>\n",
       "    </tr>\n",
       "    <tr>\n",
       "      <th>3</th>\n",
       "      <td>Give me ideas to lower my expenses.</td>\n",
       "      <td>saving_strategy</td>\n",
       "    </tr>\n",
       "    <tr>\n",
       "      <th>4</th>\n",
       "      <td>Suggest ways to spend less.</td>\n",
       "      <td>saving_strategy</td>\n",
       "    </tr>\n",
       "    <tr>\n",
       "      <th>...</th>\n",
       "      <td>...</td>\n",
       "      <td>...</td>\n",
       "    </tr>\n",
       "    <tr>\n",
       "      <th>195</th>\n",
       "      <td>Where can I invest my leftover money?</td>\n",
       "      <td>investment_suggestion</td>\n",
       "    </tr>\n",
       "    <tr>\n",
       "      <th>196</th>\n",
       "      <td>Turn my budget into an asset?</td>\n",
       "      <td>investment_suggestion</td>\n",
       "    </tr>\n",
       "    <tr>\n",
       "      <th>197</th>\n",
       "      <td>Give me ideas to use my extra cash wisely.</td>\n",
       "      <td>investment_suggestion</td>\n",
       "    </tr>\n",
       "    <tr>\n",
       "      <th>198</th>\n",
       "      <td>Investment opportunities based on my habits?</td>\n",
       "      <td>investment_suggestion</td>\n",
       "    </tr>\n",
       "    <tr>\n",
       "      <th>199</th>\n",
       "      <td>Suggest something smart for my savings.</td>\n",
       "      <td>investment_suggestion</td>\n",
       "    </tr>\n",
       "  </tbody>\n",
       "</table>\n",
       "<p>200 rows × 2 columns</p>\n",
       "</div>"
      ],
      "text/plain": [
       "                                             text                 intent\n",
       "0          I need help reducing my food expenses.        saving_strategy\n",
       "1                     Advice to build my savings.        saving_strategy\n",
       "2           How can I save more money each month?        saving_strategy\n",
       "3             Give me ideas to lower my expenses.        saving_strategy\n",
       "4                     Suggest ways to spend less.        saving_strategy\n",
       "..                                            ...                    ...\n",
       "195         Where can I invest my leftover money?  investment_suggestion\n",
       "196                 Turn my budget into an asset?  investment_suggestion\n",
       "197    Give me ideas to use my extra cash wisely.  investment_suggestion\n",
       "198  Investment opportunities based on my habits?  investment_suggestion\n",
       "199       Suggest something smart for my savings.  investment_suggestion\n",
       "\n",
       "[200 rows x 2 columns]"
      ]
     },
     "execution_count": 109,
     "metadata": {},
     "output_type": "execute_result"
    }
   ],
   "source": [
    "df.dropna(axis=0)"
   ]
  },
  {
   "cell_type": "markdown",
   "id": "04f5dde0-f44f-477e-9f8f-776b351c9d95",
   "metadata": {},
   "source": [
    "### Compter les répétitions"
   ]
  },
  {
   "cell_type": "code",
   "execution_count": 116,
   "id": "fdb3fd53-f6e4-4520-8783-3a9986345316",
   "metadata": {},
   "outputs": [
    {
     "data": {
      "text/plain": [
       "intent\n",
       "saving_strategy          20\n",
       "budget_review            20\n",
       "project_start_advice     20\n",
       "spending_analysis        20\n",
       "over_budget              20\n",
       "budget_forecast          20\n",
       "monthly_report           20\n",
       "categorical_spending     20\n",
       "emergency_plan           20\n",
       "investment_suggestion    20\n",
       "Name: count, dtype: int64"
      ]
     },
     "execution_count": 116,
     "metadata": {},
     "output_type": "execute_result"
    }
   ],
   "source": [
    "df['intent'].value_counts()"
   ]
  },
  {
   "cell_type": "markdown",
   "id": "32dc3af6-640c-4975-88bf-4063fc5ebff7",
   "metadata": {},
   "source": [
    "### Analyse par groupe"
   ]
  },
  {
   "cell_type": "code",
   "execution_count": 121,
   "id": "16cb1205-3e36-4a53-af30-e03898bd05cf",
   "metadata": {},
   "outputs": [
    {
     "data": {
      "text/plain": [
       "<pandas.core.groupby.generic.DataFrameGroupBy object at 0x7dbb4ac1f680>"
      ]
     },
     "execution_count": 121,
     "metadata": {},
     "output_type": "execute_result"
    }
   ],
   "source": [
    "df.groupby(['intent'])"
   ]
  },
  {
   "cell_type": "markdown",
   "id": "6312600d-f2ec-4275-8c9f-a7608686dd6a",
   "metadata": {},
   "source": [
    "## iloc"
   ]
  },
  {
   "cell_type": "markdown",
   "id": "80b4af75-3b61-4755-ada8-0328aa47f8a7",
   "metadata": {},
   "source": [
    "iloc (integer location)\n",
    "\n",
    "Position basée sur l'INDEX NUMÉRIQUE"
   ]
  },
  {
   "cell_type": "code",
   "execution_count": 155,
   "id": "ce7958c0-1b49-4f87-8027-0e95f5af4030",
   "metadata": {},
   "outputs": [
    {
     "data": {
      "text/plain": [
       "text      I need help reducing my food expenses.\n",
       "intent                           saving_strategy\n",
       "Name: 0, dtype: object"
      ]
     },
     "execution_count": 155,
     "metadata": {},
     "output_type": "execute_result"
    }
   ],
   "source": [
    "df.iloc[0]        # première ligne"
   ]
  },
  {
   "cell_type": "code",
   "execution_count": 149,
   "id": "3b948841-a16b-4bf6-bbbc-67898f6254de",
   "metadata": {},
   "outputs": [
    {
     "data": {
      "text/html": [
       "<div>\n",
       "<style scoped>\n",
       "    .dataframe tbody tr th:only-of-type {\n",
       "        vertical-align: middle;\n",
       "    }\n",
       "\n",
       "    .dataframe tbody tr th {\n",
       "        vertical-align: top;\n",
       "    }\n",
       "\n",
       "    .dataframe thead th {\n",
       "        text-align: right;\n",
       "    }\n",
       "</style>\n",
       "<table border=\"1\" class=\"dataframe\">\n",
       "  <thead>\n",
       "    <tr style=\"text-align: right;\">\n",
       "      <th></th>\n",
       "      <th>text</th>\n",
       "      <th>intent</th>\n",
       "    </tr>\n",
       "  </thead>\n",
       "  <tbody>\n",
       "    <tr>\n",
       "      <th>0</th>\n",
       "      <td>I need help reducing my food expenses.</td>\n",
       "      <td>saving_strategy</td>\n",
       "    </tr>\n",
       "    <tr>\n",
       "      <th>1</th>\n",
       "      <td>Advice to build my savings.</td>\n",
       "      <td>saving_strategy</td>\n",
       "    </tr>\n",
       "    <tr>\n",
       "      <th>2</th>\n",
       "      <td>How can I save more money each month?</td>\n",
       "      <td>saving_strategy</td>\n",
       "    </tr>\n",
       "  </tbody>\n",
       "</table>\n",
       "</div>"
      ],
      "text/plain": [
       "                                     text           intent\n",
       "0  I need help reducing my food expenses.  saving_strategy\n",
       "1             Advice to build my savings.  saving_strategy\n",
       "2   How can I save more money each month?  saving_strategy"
      ]
     },
     "execution_count": 149,
     "metadata": {},
     "output_type": "execute_result"
    }
   ],
   "source": [
    "df.iloc[0:3]      # lignes 0, 1, 2"
   ]
  },
  {
   "cell_type": "code",
   "execution_count": 151,
   "id": "47331320-fbe1-4fec-b3ac-c24aba848390",
   "metadata": {},
   "outputs": [
    {
     "data": {
      "text/plain": [
       "0            I need help reducing my food expenses.\n",
       "1                       Advice to build my savings.\n",
       "2             How can I save more money each month?\n",
       "3               Give me ideas to lower my expenses.\n",
       "4                       Suggest ways to spend less.\n",
       "                           ...                     \n",
       "195           Where can I invest my leftover money?\n",
       "196                   Turn my budget into an asset?\n",
       "197      Give me ideas to use my extra cash wisely.\n",
       "198    Investment opportunities based on my habits?\n",
       "199         Suggest something smart for my savings.\n",
       "Name: text, Length: 200, dtype: object"
      ]
     },
     "execution_count": 151,
     "metadata": {},
     "output_type": "execute_result"
    }
   ],
   "source": [
    "df.iloc[:, 0]     # première colonne"
   ]
  },
  {
   "cell_type": "code",
   "execution_count": 153,
   "id": "770c77b9-81c4-4216-ac8f-054f348ed130",
   "metadata": {},
   "outputs": [
    {
     "data": {
      "text/plain": [
       "'saving_strategy'"
      ]
     },
     "execution_count": 153,
     "metadata": {},
     "output_type": "execute_result"
    }
   ],
   "source": [
    "df.iloc[0, 1]     # ligne 0, colonne 1"
   ]
  },
  {
   "cell_type": "code",
   "execution_count": 157,
   "id": "b2d61bde-66d1-4282-a0e7-f7114dfdf6f8",
   "metadata": {},
   "outputs": [
    {
     "data": {
      "text/plain": [
       "text      Suggest something smart for my savings.\n",
       "intent                      investment_suggestion\n",
       "Name: 199, dtype: object"
      ]
     },
     "execution_count": 157,
     "metadata": {},
     "output_type": "execute_result"
    }
   ],
   "source": [
    "df.iloc[-1]       # dernière ligne"
   ]
  },
  {
   "cell_type": "markdown",
   "id": "46fcebda-0b9b-4a75-90ae-478ab7b482ab",
   "metadata": {},
   "source": [
    "## loc"
   ]
  },
  {
   "cell_type": "markdown",
   "id": "932543cc-3820-4fe8-a14f-41b378c20c37",
   "metadata": {},
   "source": [
    "Position basée sur les ÉTIQUETTES/NOMS"
   ]
  },
  {
   "cell_type": "code",
   "execution_count": 175,
   "id": "7338e75c-b43e-4da4-ba96-78e2ff5ad422",
   "metadata": {},
   "outputs": [
    {
     "data": {
      "text/plain": [
       "0            saving_strategy\n",
       "1            saving_strategy\n",
       "2            saving_strategy\n",
       "3            saving_strategy\n",
       "4            saving_strategy\n",
       "               ...          \n",
       "195    investment_suggestion\n",
       "196    investment_suggestion\n",
       "197    investment_suggestion\n",
       "198    investment_suggestion\n",
       "199    investment_suggestion\n",
       "Name: intent, Length: 200, dtype: object"
      ]
     },
     "execution_count": 175,
     "metadata": {},
     "output_type": "execute_result"
    }
   ],
   "source": [
    "df.loc[:, 'intent']      # colonne par nom"
   ]
  },
  {
   "cell_type": "code",
   "execution_count": 183,
   "id": "7dbf1ef7-8b9f-4c3f-bf5d-5909cb7207ef",
   "metadata": {},
   "outputs": [
    {
     "data": {
      "text/html": [
       "<div>\n",
       "<style scoped>\n",
       "    .dataframe tbody tr th:only-of-type {\n",
       "        vertical-align: middle;\n",
       "    }\n",
       "\n",
       "    .dataframe tbody tr th {\n",
       "        vertical-align: top;\n",
       "    }\n",
       "\n",
       "    .dataframe thead th {\n",
       "        text-align: right;\n",
       "    }\n",
       "</style>\n",
       "<table border=\"1\" class=\"dataframe\">\n",
       "  <thead>\n",
       "    <tr style=\"text-align: right;\">\n",
       "      <th></th>\n",
       "      <th>text</th>\n",
       "      <th>intent</th>\n",
       "    </tr>\n",
       "  </thead>\n",
       "  <tbody>\n",
       "    <tr>\n",
       "      <th>80</th>\n",
       "      <td>Have I broken my budget rules?</td>\n",
       "      <td>over_budget</td>\n",
       "    </tr>\n",
       "    <tr>\n",
       "      <th>81</th>\n",
       "      <td>Check if I went over the limit.</td>\n",
       "      <td>over_budget</td>\n",
       "    </tr>\n",
       "    <tr>\n",
       "      <th>82</th>\n",
       "      <td>Am I over budget this month?</td>\n",
       "      <td>over_budget</td>\n",
       "    </tr>\n",
       "    <tr>\n",
       "      <th>83</th>\n",
       "      <td>Alert me if I go over budget.</td>\n",
       "      <td>over_budget</td>\n",
       "    </tr>\n",
       "    <tr>\n",
       "      <th>84</th>\n",
       "      <td>Let me know if I exceeded my budget.</td>\n",
       "      <td>over_budget</td>\n",
       "    </tr>\n",
       "    <tr>\n",
       "      <th>85</th>\n",
       "      <td>Was this an expensive month for me?</td>\n",
       "      <td>over_budget</td>\n",
       "    </tr>\n",
       "    <tr>\n",
       "      <th>86</th>\n",
       "      <td>Tell me if I’m overspending.</td>\n",
       "      <td>over_budget</td>\n",
       "    </tr>\n",
       "    <tr>\n",
       "      <th>87</th>\n",
       "      <td>Did I cross my financial limit?</td>\n",
       "      <td>over_budget</td>\n",
       "    </tr>\n",
       "    <tr>\n",
       "      <th>88</th>\n",
       "      <td>Did I spend too much?</td>\n",
       "      <td>over_budget</td>\n",
       "    </tr>\n",
       "    <tr>\n",
       "      <th>89</th>\n",
       "      <td>Monitor my spending threshold.</td>\n",
       "      <td>over_budget</td>\n",
       "    </tr>\n",
       "    <tr>\n",
       "      <th>90</th>\n",
       "      <td>Did I cross my financial limit?</td>\n",
       "      <td>over_budget</td>\n",
       "    </tr>\n",
       "    <tr>\n",
       "      <th>91</th>\n",
       "      <td>Check if I went over the limit.</td>\n",
       "      <td>over_budget</td>\n",
       "    </tr>\n",
       "    <tr>\n",
       "      <th>92</th>\n",
       "      <td>Alert me if I go over budget.</td>\n",
       "      <td>over_budget</td>\n",
       "    </tr>\n",
       "    <tr>\n",
       "      <th>93</th>\n",
       "      <td>Monitor my spending threshold.</td>\n",
       "      <td>over_budget</td>\n",
       "    </tr>\n",
       "    <tr>\n",
       "      <th>94</th>\n",
       "      <td>Did I spend too much?</td>\n",
       "      <td>over_budget</td>\n",
       "    </tr>\n",
       "    <tr>\n",
       "      <th>95</th>\n",
       "      <td>Tell me if I’m overspending.</td>\n",
       "      <td>over_budget</td>\n",
       "    </tr>\n",
       "    <tr>\n",
       "      <th>96</th>\n",
       "      <td>Have I broken my budget rules?</td>\n",
       "      <td>over_budget</td>\n",
       "    </tr>\n",
       "    <tr>\n",
       "      <th>97</th>\n",
       "      <td>Let me know if I exceeded my budget.</td>\n",
       "      <td>over_budget</td>\n",
       "    </tr>\n",
       "    <tr>\n",
       "      <th>98</th>\n",
       "      <td>Was this an expensive month for me?</td>\n",
       "      <td>over_budget</td>\n",
       "    </tr>\n",
       "    <tr>\n",
       "      <th>99</th>\n",
       "      <td>Am I over budget this month?</td>\n",
       "      <td>over_budget</td>\n",
       "    </tr>\n",
       "  </tbody>\n",
       "</table>\n",
       "</div>"
      ],
      "text/plain": [
       "                                    text       intent\n",
       "80        Have I broken my budget rules?  over_budget\n",
       "81       Check if I went over the limit.  over_budget\n",
       "82          Am I over budget this month?  over_budget\n",
       "83         Alert me if I go over budget.  over_budget\n",
       "84  Let me know if I exceeded my budget.  over_budget\n",
       "85   Was this an expensive month for me?  over_budget\n",
       "86          Tell me if I’m overspending.  over_budget\n",
       "87       Did I cross my financial limit?  over_budget\n",
       "88                 Did I spend too much?  over_budget\n",
       "89        Monitor my spending threshold.  over_budget\n",
       "90       Did I cross my financial limit?  over_budget\n",
       "91       Check if I went over the limit.  over_budget\n",
       "92         Alert me if I go over budget.  over_budget\n",
       "93        Monitor my spending threshold.  over_budget\n",
       "94                 Did I spend too much?  over_budget\n",
       "95          Tell me if I’m overspending.  over_budget\n",
       "96        Have I broken my budget rules?  over_budget\n",
       "97  Let me know if I exceeded my budget.  over_budget\n",
       "98   Was this an expensive month for me?  over_budget\n",
       "99          Am I over budget this month?  over_budget"
      ]
     },
     "execution_count": 183,
     "metadata": {},
     "output_type": "execute_result"
    }
   ],
   "source": [
    "df.loc[df['intent'] == \"over_budget\"]         # condition booléenne"
   ]
  }
 ],
 "metadata": {
  "kernelspec": {
   "display_name": "Python [conda env:base] *",
   "language": "python",
   "name": "conda-base-py"
  },
  "language_info": {
   "codemirror_mode": {
    "name": "ipython",
    "version": 3
   },
   "file_extension": ".py",
   "mimetype": "text/x-python",
   "name": "python",
   "nbconvert_exporter": "python",
   "pygments_lexer": "ipython3",
   "version": "3.12.7"
  }
 },
 "nbformat": 4,
 "nbformat_minor": 5
}
